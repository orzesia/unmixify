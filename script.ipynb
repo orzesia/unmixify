{
 "cells": [
  {
   "cell_type": "markdown",
   "id": "a500d4c3",
   "metadata": {},
   "source": [
    "# Independent Component Analysis (ICA)"
   ]
  },
  {
   "cell_type": "code",
   "execution_count": null,
   "id": "9c5ccae7",
   "metadata": {},
   "outputs": [],
   "source": [
    "# Load data\n",
    "\n",
    "# Data preprocessing\n",
    "# ----- Prior general data preprocessing steps -----\n",
    "\n",
    "\n",
    "# ICA specific preprocessing steps\n",
    "\n",
    "# Centering: subtractioni of the mean from input data. As a result, centered mixed signals will have zero mean which implies source signals s have zero mean (mean can be added back later)\n",
    "import numpy as np\n",
    "def center_data(x):\n",
    "    \"\"\"Center the data by subtracting the mean.\"\"\"\n",
    "    mean = np.mean(x, axis=1, keepdims=True)\n",
    "    centered = x - mean\n",
    "    return centered, mean\n",
    "\n",
    "# Whitening: scaling of the data so that the covariance matrix is equal to the identity matrix. This is done by multiplying the centered data with the inverse square root of the covariance matrix.\n",
    "# Basically, looking to linearly transform the observed signals Z in a way that potential correlations between the signals are removed and variances are equal to 1.\n",
    "# This will make the covariance matrix of the whitened signals equal to the identity matrix\n",
    "\n",
    "# Need to calculate covariance first \n",
    "def covariance(x):\n",
    "    \"\"\"Calculate the covariance matrix of the data.\"\"\"\n",
    "    mean = np.mean(x, axis=1, keepdims=True)\n",
    "    n = np.shape(x)[1] - 1\n",
    "    m = x - mean\n",
    "    \n",
    "    return (m.dot(m.T)) / n\n",
    "\n",
    "# Then function to whiten the data\n",
    "def whiten(x):\n",
    "    # Calculate the covariance matrix\n",
    "    cov = covariance(x)\n",
    "    \n",
    "    # Single value decoposition\n",
    "    U, S, Vt = np.linalg.svd(cov)\n",
    "    \n",
    "    # Calculate diagonal matrix of eigenvalues\n",
    "    d = np.diag(1.0 / np.sqrt(S))\n",
    "    \n",
    "    # Calculate the whitening matrix\n",
    "    white = np.dot(U, np.dot(d, U.T))\n",
    "    \n",
    "    # Project data onto the whitening matrix\n",
    "    whitenedx = np.dot(white, x)\n",
    "    return whitenedx, white\n",
    "    "
   ]
  },
  {
   "cell_type": "code",
   "execution_count": null,
   "id": "75ed8b3f",
   "metadata": {},
   "outputs": [],
   "source": [
    "# Pseudo code for ICA\n",
    "\n"
   ]
  }
 ],
 "metadata": {
  "language_info": {
   "name": "python"
  }
 },
 "nbformat": 4,
 "nbformat_minor": 5
}
